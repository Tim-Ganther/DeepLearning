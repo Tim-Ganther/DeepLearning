{
  "nbformat": 4,
  "nbformat_minor": 0,
  "metadata": {
    "colab": {
      "name": "Name2Gender.ipynb",
      "provenance": [],
      "collapsed_sections": [],
      "toc_visible": true,
      "include_colab_link": true
    },
    "kernelspec": {
      "name": "python3",
      "display_name": "Python 3"
    },
    "accelerator": "GPU"
  },
  "cells": [
    {
      "cell_type": "markdown",
      "metadata": {
        "id": "view-in-github",
        "colab_type": "text"
      },
      "source": [
        "<a href=\"https://colab.research.google.com/github/Tim-Ganther/DeepLearning-NameToGender/blob/master/Name2Gender.ipynb\" target=\"_parent\"><img src=\"https://colab.research.google.com/assets/colab-badge.svg\" alt=\"Open In Colab\"/></a>"
      ]
    },
    {
      "cell_type": "code",
      "metadata": {
        "id": "hAD0IC5JCnjb",
        "colab_type": "code",
        "colab": {}
      },
      "source": [
        "import pandas as pd\n",
        "import numpy as np\n",
        "import torch\n",
        "import torch.nn as nn"
      ],
      "execution_count": 0,
      "outputs": []
    },
    {
      "cell_type": "code",
      "metadata": {
        "id": "dwpUfv5GEexa",
        "colab_type": "code",
        "colab": {}
      },
      "source": [
        "fnames = pd.read_csv(\"female-names.csv\", header=None, dtype={0: str})\n",
        "mnames = pd.read_csv(\"male-names.csv\", header=None, dtype={0: str})\n",
        "fnames = fnames.rename(columns={0:\"Name\"})\n",
        "mnames = mnames.rename(columns={0:\"Name\"})\n",
        "#fnames[\"Geschlecht\"] = 0\n",
        "#mnames[\"Geschlecht\"] = 1\n",
        "#namen = pd.concat([fnames, mnames])\n",
        "#namen = namen.reset_index(drop=True)"
      ],
      "execution_count": 0,
      "outputs": []
    },
    {
      "cell_type": "code",
      "metadata": {
        "id": "U2uS5lo6nfXY",
        "colab_type": "code",
        "colab": {}
      },
      "source": [
        "mnames[\"Name\"] = mnames.Name.str.replace(\"ü\", \"ue\" , regex= True)\n",
        "mnames[\"Name\"] = mnames.Name.str.replace(\"ö\", \"oe\" , regex= True)\n",
        "mnames[\"Name\"] = mnames.Name.str.replace(\"ä\", \"ae\" , regex= True)\n",
        "fnames[\"Name\"] = fnames.Name.str.replace(\"ü\", \"ue\" , regex= True)\n",
        "fnames[\"Name\"] = fnames.Name.str.replace(\"ö\", \"oe\" , regex= True)\n",
        "fnames[\"Name\"] = fnames.Name.str.replace(\"ä\", \"ae\" , regex= True)\n",
        "\n",
        "mnames[\"Name\"] = mnames.Name.str.replace(\"Ü\", \"Ue\" , regex= True)\n",
        "mnames[\"Name\"] = mnames.Name.str.replace(\"Ö\", \"Oe\" , regex= True)\n",
        "mnames[\"Name\"] = mnames.Name.str.replace(\"Ä\", \"Ae\" , regex= True)\n",
        "fnames[\"Name\"] = fnames.Name.str.replace(\"Ü\", \"Ue\" , regex= True)\n",
        "fnames[\"Name\"] = fnames.Name.str.replace(\"Ö\", \"Oe\" , regex= True)\n",
        "fnames[\"Name\"] = fnames.Name.str.replace(\"Ä\", \"Ae\" , regex= True)\n",
        "\n",
        "mnames[\"Name\"] = mnames.Name.str.replace(\"é\", \"e\" , regex= True)\n",
        "fnames[\"Name\"] = fnames.Name.str.replace(\"é\", \"e\" , regex= True)\n",
        "\n",
        "mnames[\"Name\"] = mnames.drop(mnames.index[mnames.Name.str.contains(\"-\", regex= True, na=False)].tolist())\n",
        "fnames[\"Name\"] = fnames.drop(fnames.index[fnames.Name.str.contains(\"-\", regex= True, na=False)].tolist())\n",
        "fnames = fnames.dropna()\n",
        "mnames = mnames.dropna()\n",
        "\n",
        "fnames = fnames.reset_index(drop=True)\n",
        "mnames = mnames.reset_index(drop=True)"
      ],
      "execution_count": 0,
      "outputs": []
    },
    {
      "cell_type": "code",
      "metadata": {
        "id": "vKvcvd4utwma",
        "colab_type": "code",
        "colab": {}
      },
      "source": [
        "gender = []\n",
        "gender.append('f')\n",
        "gender.append('m')\n",
        "name_list = {}\n",
        "name_list['f'] = fnames.values.tolist()\n",
        "name_list['m'] = mnames.values.tolist()"
      ],
      "execution_count": 0,
      "outputs": []
    },
    {
      "cell_type": "code",
      "metadata": {
        "id": "Gh8YRUANtzWz",
        "colab_type": "code",
        "outputId": "dcffe2d6-ccc8-4b88-c9b6-6973937e40c0",
        "colab": {
          "base_uri": "https://localhost:8080/",
          "height": 425
        }
      },
      "source": [
        "import string\n",
        "all_letters = string.ascii_letters\n",
        "n_letters = len(all_letters)\n",
        "\n",
        "def letterToIndex(letter):\n",
        "    return all_letters.find(letter)\n",
        "\n",
        "def lineToTensor(line):\n",
        "    tensor = torch.zeros(len(line), 1, n_letters)\n",
        "    for li, letter in enumerate(line):\n",
        "        tensor[li][0][letterToIndex(letter)] = 1\n",
        "    return tensor\n",
        "\n",
        "print(lineToTensor('Lenny'))"
      ],
      "execution_count": 0,
      "outputs": [
        {
          "output_type": "stream",
          "text": [
            "tensor([[[0., 0., 0., 0., 0., 0., 0., 0., 0., 0., 0., 0., 0., 0., 0., 0., 0.,\n",
            "          0., 0., 0., 0., 0., 0., 0., 0., 0., 0., 0., 0., 0., 0., 0., 0., 0.,\n",
            "          0., 0., 0., 1., 0., 0., 0., 0., 0., 0., 0., 0., 0., 0., 0., 0., 0.,\n",
            "          0.]],\n",
            "\n",
            "        [[0., 0., 0., 0., 1., 0., 0., 0., 0., 0., 0., 0., 0., 0., 0., 0., 0.,\n",
            "          0., 0., 0., 0., 0., 0., 0., 0., 0., 0., 0., 0., 0., 0., 0., 0., 0.,\n",
            "          0., 0., 0., 0., 0., 0., 0., 0., 0., 0., 0., 0., 0., 0., 0., 0., 0.,\n",
            "          0.]],\n",
            "\n",
            "        [[0., 0., 0., 0., 0., 0., 0., 0., 0., 0., 0., 0., 0., 1., 0., 0., 0.,\n",
            "          0., 0., 0., 0., 0., 0., 0., 0., 0., 0., 0., 0., 0., 0., 0., 0., 0.,\n",
            "          0., 0., 0., 0., 0., 0., 0., 0., 0., 0., 0., 0., 0., 0., 0., 0., 0.,\n",
            "          0.]],\n",
            "\n",
            "        [[0., 0., 0., 0., 0., 0., 0., 0., 0., 0., 0., 0., 0., 1., 0., 0., 0.,\n",
            "          0., 0., 0., 0., 0., 0., 0., 0., 0., 0., 0., 0., 0., 0., 0., 0., 0.,\n",
            "          0., 0., 0., 0., 0., 0., 0., 0., 0., 0., 0., 0., 0., 0., 0., 0., 0.,\n",
            "          0.]],\n",
            "\n",
            "        [[0., 0., 0., 0., 0., 0., 0., 0., 0., 0., 0., 0., 0., 0., 0., 0., 0.,\n",
            "          0., 0., 0., 0., 0., 0., 0., 1., 0., 0., 0., 0., 0., 0., 0., 0., 0.,\n",
            "          0., 0., 0., 0., 0., 0., 0., 0., 0., 0., 0., 0., 0., 0., 0., 0., 0.,\n",
            "          0.]]])\n"
          ],
          "name": "stdout"
        }
      ]
    },
    {
      "cell_type": "code",
      "metadata": {
        "id": "InuX-QVwvzly",
        "colab_type": "code",
        "colab": {}
      },
      "source": [
        "import torch.nn as nn\n",
        "\n",
        "n_categories = len(gender)\n",
        "\n",
        "class RNN(nn.Module):\n",
        "    def __init__(self, input_size, hidden_size, output_size):\n",
        "        super(RNN, self).__init__()\n",
        "\n",
        "        self.hidden_size = hidden_size\n",
        "\n",
        "        self.i2h = nn.Linear(input_size + hidden_size, hidden_size)\n",
        "        self.i2o = nn.Linear(input_size + hidden_size, output_size)\n",
        "        self.softmax = nn.LogSoftmax(dim=1)\n",
        "\n",
        "    def forward(self, input, hidden):\n",
        "        combined = torch.cat((input, hidden), 1)\n",
        "        hidden = self.i2h(combined)\n",
        "        output = self.i2o(combined)\n",
        "        output = self.softmax(output)\n",
        "        return output, hidden\n",
        "\n",
        "    def initHidden(self):\n",
        "        return torch.zeros(1, self.hidden_size)\n",
        "\n",
        "n_hidden = 128\n",
        "rnn = RNN(n_letters, n_hidden, n_categories)"
      ],
      "execution_count": 0,
      "outputs": []
    },
    {
      "cell_type": "code",
      "metadata": {
        "id": "wEf61fGDwggh",
        "colab_type": "code",
        "outputId": "54139e99-3d8e-4b95-c4b7-39cbaa2eab6a",
        "colab": {
          "base_uri": "https://localhost:8080/",
          "height": 34
        }
      },
      "source": [
        "input = lineToTensor('Tim')\n",
        "hidden = torch.zeros(1, n_hidden)\n",
        "\n",
        "output, next_hidden = rnn(input[0], hidden)\n",
        "#print(output)\n",
        "\n",
        "def genderFromOutput(output):\n",
        "    top_n, top_i = output.topk(1)\n",
        "    gender_i = top_i[0].item()\n",
        "    return gender[gender_i], gender_i\n",
        "\n",
        "print(genderFromOutput(output))"
      ],
      "execution_count": 0,
      "outputs": [
        {
          "output_type": "stream",
          "text": [
            "('f', 0)\n"
          ],
          "name": "stdout"
        }
      ]
    },
    {
      "cell_type": "code",
      "metadata": {
        "id": "xTaJF7t1yO9F",
        "colab_type": "code",
        "outputId": "f8f93a43-0e9c-451b-d004-2a5a4d636403",
        "colab": {
          "base_uri": "https://localhost:8080/",
          "height": 187
        }
      },
      "source": [
        "import random\n",
        "\n",
        "def randomChoice(l):\n",
        "    h = random.randint(0, len(l) - 1)\n",
        "    return l[h]\n",
        "\n",
        "def randomTrainingExample():\n",
        "    rdm_gender = randomChoice(gender)\n",
        "    line = randomChoice(name_list[rdm_gender])[0]\n",
        "    gender_tensor = torch.tensor([gender.index(rdm_gender)], dtype=torch.long)\n",
        "    line_tensor = lineToTensor(line)\n",
        "    return rdm_gender, line, gender_tensor, line_tensor\n",
        "\n",
        "for i in range(10):\n",
        "    rdm_gender, line, gender_tensor, line_tensor = randomTrainingExample()\n",
        "    print('gender =', rdm_gender, '/ line =', line)"
      ],
      "execution_count": 0,
      "outputs": [
        {
          "output_type": "stream",
          "text": [
            "gender = f / line = Hertha\n",
            "gender = f / line = Ortrud\n",
            "gender = f / line = Mathilde\n",
            "gender = m / line = Winrich\n",
            "gender = m / line = Malte\n",
            "gender = m / line = Alfons\n",
            "gender = m / line = Roberto\n",
            "gender = f / line = Irmelie\n",
            "gender = m / line = Albrecht\n",
            "gender = f / line = Adelheid\n"
          ],
          "name": "stdout"
        }
      ]
    },
    {
      "cell_type": "code",
      "metadata": {
        "id": "D_LbaXwGZUGe",
        "colab_type": "code",
        "outputId": "52a6186c-af1d-4fbd-890e-044c9528ab5c",
        "colab": {
          "base_uri": "https://localhost:8080/",
          "height": 34
        }
      },
      "source": [
        "randomChoice(name_list[randomChoice(gender)])[0]"
      ],
      "execution_count": 0,
      "outputs": [
        {
          "output_type": "execute_result",
          "data": {
            "text/plain": [
              "'Gunfried'"
            ]
          },
          "metadata": {
            "tags": []
          },
          "execution_count": 184
        }
      ]
    },
    {
      "cell_type": "code",
      "metadata": {
        "id": "kw9JBtrBzOSK",
        "colab_type": "code",
        "colab": {}
      },
      "source": [
        "criterion = nn.NLLLoss()\n",
        "learning_rate = 0.005 \n",
        "\n",
        "def train(gender_tensor, line_tensor):\n",
        "    hidden = rnn.initHidden()\n",
        "\n",
        "    rnn.zero_grad()\n",
        "\n",
        "    for i in range(line_tensor.size()[0]):\n",
        "        output, hidden = rnn(line_tensor[i], hidden)\n",
        "\n",
        "    loss = criterion(output, gender_tensor)\n",
        "    loss.backward()\n",
        "\n",
        "    # Add parameters' gradients to their values, multiplied by learning rate\n",
        "    for p in rnn.parameters():\n",
        "        p.data.__add__(-learning_rate, p.grad)\n",
        "\n",
        "    return output, loss.item()"
      ],
      "execution_count": 0,
      "outputs": []
    },
    {
      "cell_type": "code",
      "metadata": {
        "id": "-bm7PxSO9OvR",
        "colab_type": "code",
        "outputId": "bcb076a1-5ce4-403a-d1c1-9934a9658511",
        "colab": {
          "base_uri": "https://localhost:8080/",
          "height": 357
        }
      },
      "source": [
        "import time\n",
        "import math\n",
        "\n",
        "n_iters = 100000\n",
        "print_every = 5000\n",
        "plot_every = 1000\n",
        "\n",
        "\n",
        "\n",
        "# Keep track of losses for plotting\n",
        "current_loss = 0\n",
        "all_losses = []\n",
        "\n",
        "def timeSince(since):\n",
        "    now = time.time()\n",
        "    s = now - since\n",
        "    m = math.floor(s / 60)\n",
        "    s -= m * 60\n",
        "    return '%dm %ds' % (m, s)\n",
        "\n",
        "start = time.time()\n",
        "\n",
        "for iter in range(1, n_iters + 1):\n",
        "    rdm_gender, line, gender_tensor, line_tensor = randomTrainingExample()\n",
        "    output, loss = train(gender_tensor, line_tensor)\n",
        "    current_loss += loss\n",
        "\n",
        "    # Print iter number, loss, name and guess\n",
        "    if iter % print_every == 0:\n",
        "        guess, guess_i = genderFromOutput(output)\n",
        "        correct = '✓' if guess == rdm_gender else '✗ (%s)' % rdm_gender\n",
        "        print('%d %d%% (%s) %.4f %s / %s %s' % (iter, iter / n_iters * 100, timeSince(start), loss, line, guess, correct))\n",
        "\n",
        "    # Add current loss avg to list of losses\n",
        "    if iter % plot_every == 0:\n",
        "        all_losses.append(current_loss / plot_every)\n",
        "        current_loss = 0"
      ],
      "execution_count": 0,
      "outputs": [
        {
          "output_type": "stream",
          "text": [
            "5000 5% (0m 7s) 0.7579 Eike / f ✗ (m)\n",
            "10000 10% (0m 15s) 0.6608 Katja / f ✓\n",
            "15000 15% (0m 23s) 0.6491 Edwine / f ✓\n",
            "20000 20% (0m 30s) 0.7611 Altrud / m ✗ (f)\n",
            "25000 25% (0m 38s) 0.6650 Egbert / m ✓\n",
            "30000 30% (0m 45s) 0.6381 Oslinde / f ✓\n",
            "35000 35% (0m 53s) 0.7567 Gordian / f ✗ (m)\n",
            "40000 40% (1m 1s) 0.6398 Cathrin / f ✓\n",
            "45000 45% (1m 8s) 0.6800 Brandolf / m ✓\n",
            "50000 50% (1m 16s) 0.6523 Godo / m ✓\n",
            "55000 55% (1m 23s) 0.7420 Marzel / f ✗ (m)\n",
            "60000 60% (1m 31s) 0.6497 Haimo / m ✓\n",
            "65000 65% (1m 38s) 0.7036 Jonas / f ✗ (m)\n",
            "70000 70% (1m 46s) 0.6422 Volrad / m ✓\n",
            "75000 75% (1m 53s) 0.6740 Kreszenz / f ✓\n",
            "80000 80% (2m 1s) 0.6498 Baerbel / f ✓\n",
            "85000 85% (2m 8s) 0.6354 Hanneliese / f ✓\n",
            "90000 90% (2m 16s) 0.7420 Marzel / f ✗ (m)\n",
            "95000 95% (2m 23s) 0.7235 Diemut / m ✗ (f)\n",
            "100000 100% (2m 31s) 0.7571 Luitwin / f ✗ (m)\n"
          ],
          "name": "stdout"
        }
      ]
    },
    {
      "cell_type": "code",
      "metadata": {
        "id": "Xcaeb42lfXsI",
        "colab_type": "code",
        "colab": {}
      },
      "source": [
        ""
      ],
      "execution_count": 0,
      "outputs": []
    }
  ]
}