{
  "nbformat": 4,
  "nbformat_minor": 0,
  "metadata": {
    "colab": {
      "name": "Name2Gender2.ipynb",
      "provenance": [],
      "collapsed_sections": []
    },
    "kernelspec": {
      "name": "python3",
      "display_name": "Python 3"
    }
  },
  "cells": [
    {
      "cell_type": "code",
      "metadata": {
        "id": "8WjurGPpvrAv",
        "colab_type": "code",
        "colab": {}
      },
      "source": [
        "#Split a name into features\n",
        "def gender_features(word):\n",
        "    word = word.lower()\n",
        "    return {'first_letter': word[0], 'first2_letter': word[0:2], 'first3_letter': word[0:3], 'last_letter': word[-1], 'last2_letter': word[-2:], 'last3_letter': word[-3:]}"
      ],
      "execution_count": 0,
      "outputs": []
    },
    {
      "cell_type": "code",
      "metadata": {
        "id": "NaGQtX87w5Cq",
        "colab_type": "code",
        "outputId": "122dfe38-23f2-4228-a4c4-33511596de2a",
        "colab": {
          "base_uri": "https://localhost:8080/",
          "height": 119
        }
      },
      "source": [
        "#Testing the `gender_features()` function\n",
        "gender_features(\"Tim\")"
      ],
      "execution_count": 5,
      "outputs": [
        {
          "output_type": "execute_result",
          "data": {
            "text/plain": [
              "{'first2_letter': 'ti',\n",
              " 'first3_letter': 'tim',\n",
              " 'first_letter': 't',\n",
              " 'last2_letter': 'im',\n",
              " 'last3_letter': 'tim',\n",
              " 'last_letter': 'm'}"
            ]
          },
          "metadata": {
            "tags": []
          },
          "execution_count": 5
        }
      ]
    },
    {
      "cell_type": "code",
      "metadata": {
        "id": "-jB-woP_w6nv",
        "colab_type": "code",
        "colab": {
          "base_uri": "https://localhost:8080/",
          "height": 51
        },
        "outputId": "952dd6b3-a149-4335-8d20-d000d3ae256e"
      },
      "source": [
        "import random\n",
        "import nltk\n",
        "nltk.download('names')\n",
        "from nltk.corpus import names\n",
        "\n",
        "# Read the names from the files.\n",
        "# Label each name with the corresponding gender.\n",
        "male_names = [(name, 'male') for name in names.words('male.txt')]\n",
        "female_names = [(name, 'female') for name in names.words('female.txt')]\n",
        "\n",
        "# Combine the lists.\n",
        "labeled_names = male_names + female_names\n",
        "\n",
        "# Shuffle the list.\n",
        "random.shuffle(labeled_names)"
      ],
      "execution_count": 13,
      "outputs": [
        {
          "output_type": "stream",
          "text": [
            "[nltk_data] Downloading package names to /root/nltk_data...\n",
            "[nltk_data]   Unzipping corpora/names.zip.\n"
          ],
          "name": "stdout"
        }
      ]
    },
    {
      "cell_type": "code",
      "metadata": {
        "id": "B3ZS1WeKx8l1",
        "colab_type": "code",
        "colab": {}
      },
      "source": [
        "from nltk import NaiveBayesClassifier\n",
        "\n",
        "# Extract the features using the `gender_features()` function.\n",
        "featuresets = [(gender_features(n), gender) for (n, gender) in labeled_names]\n",
        "\n",
        "# Split the dataset into train and test set.\n",
        "train_set, test_set = featuresets[500:], featuresets[:500]\n",
        "\n",
        "# Train a Naive Bayes classifier\n",
        "classifier = NaiveBayesClassifier.train(train_set)"
      ],
      "execution_count": 0,
      "outputs": []
    },
    {
      "cell_type": "code",
      "metadata": {
        "id": "N8XkJDqKy07z",
        "colab_type": "code",
        "outputId": "dc369d19-3b09-489e-a938-c63ba7401dfb",
        "colab": {
          "base_uri": "https://localhost:8080/",
          "height": 34
        }
      },
      "source": [
        "# Get the accuracy of our classifier\n",
        "from nltk.classify import accuracy\n",
        "print(accuracy(classifier, test_set))"
      ],
      "execution_count": 15,
      "outputs": [
        {
          "output_type": "stream",
          "text": [
            "0.818\n"
          ],
          "name": "stdout"
        }
      ]
    },
    {
      "cell_type": "code",
      "metadata": {
        "id": "V9PgD-y0zFK3",
        "colab_type": "code",
        "outputId": "22a654c8-52ec-4cdd-d1c2-629be8ebc8c3",
        "colab": {
          "base_uri": "https://localhost:8080/",
          "height": 204
        }
      },
      "source": [
        "# Have a look at the features and their corresponding likelihood of beeing female : male\n",
        "classifier.show_most_informative_features(10)"
      ],
      "execution_count": 16,
      "outputs": [
        {
          "output_type": "stream",
          "text": [
            "Most Informative Features\n",
            "            last2_letter = 'na'           female : male   =    164.8 : 1.0\n",
            "            last2_letter = 'la'           female : male   =     75.3 : 1.0\n",
            "            last2_letter = 'ia'           female : male   =     39.3 : 1.0\n",
            "             last_letter = 'a'            female : male   =     38.2 : 1.0\n",
            "            last2_letter = 'sa'           female : male   =     36.6 : 1.0\n",
            "             last_letter = 'k'              male : female =     32.3 : 1.0\n",
            "            last2_letter = 'do'             male : female =     26.1 : 1.0\n",
            "            last2_letter = 'ra'           female : male   =     25.8 : 1.0\n",
            "            last2_letter = 'us'             male : female =     25.5 : 1.0\n",
            "            last2_letter = 'rd'             male : female =     25.0 : 1.0\n"
          ],
          "name": "stdout"
        }
      ]
    },
    {
      "cell_type": "code",
      "metadata": {
        "id": "8LSZqW6g0PzB",
        "colab_type": "code",
        "colab": {}
      },
      "source": [
        "# Function to get the guessed gender of one name\n",
        "def getGender(name):\n",
        "  gender = classifier.classify(gender_features(name))\n",
        "  print(\"{} is most probably a {}.\".format(name, gender))"
      ],
      "execution_count": 0,
      "outputs": []
    },
    {
      "cell_type": "code",
      "metadata": {
        "id": "gxl1d4OV17Sv",
        "colab_type": "code",
        "colab": {}
      },
      "source": [
        "# Function to get the guessed gender of a list of names\n",
        "def getGenders(list):\n",
        "  for name in list:\n",
        "    getGender(name)"
      ],
      "execution_count": 0,
      "outputs": []
    },
    {
      "cell_type": "code",
      "metadata": {
        "id": "o_WrTp6E1naI",
        "colab_type": "code",
        "outputId": "b1adaf06-b7c1-4c0f-9d06-b70cbf784da2",
        "colab": {
          "base_uri": "https://localhost:8080/",
          "height": 34
        }
      },
      "source": [
        "getGender(\"Tim\")"
      ],
      "execution_count": 19,
      "outputs": [
        {
          "output_type": "stream",
          "text": [
            "Tim is most probably a male.\n"
          ],
          "name": "stdout"
        }
      ]
    },
    {
      "cell_type": "code",
      "metadata": {
        "id": "HTK0Vv5i1ph5",
        "colab_type": "code",
        "outputId": "f31e892e-652c-4bc6-d92e-693d506eda90",
        "colab": {
          "base_uri": "https://localhost:8080/",
          "height": 136
        }
      },
      "source": [
        "getGenders([\"Peter\",\"Petra\",\"Klaus\",\"Harald\",\"Silvia\",\"Elisa\",\"Thorsten\"])"
      ],
      "execution_count": 20,
      "outputs": [
        {
          "output_type": "stream",
          "text": [
            "Peter is most probably a male.\n",
            "Petra is most probably a female.\n",
            "Klaus is most probably a male.\n",
            "Harald is most probably a male.\n",
            "Silvia is most probably a female.\n",
            "Elisa is most probably a female.\n",
            "Thorsten is most probably a male.\n"
          ],
          "name": "stdout"
        }
      ]
    }
  ]
}